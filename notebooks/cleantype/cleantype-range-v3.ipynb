{
 "cells": [
  {
   "cell_type": "markdown",
   "metadata": {},
   "source": [
    "# Decipher range-v3 auto types"
   ]
  },
  {
   "cell_type": "markdown",
   "metadata": {},
   "source": [
    "[range-v3](https://github.com/ericniebler/range-v3) is a range library which will (most probably) be included in the next C++ standard. \n",
    "It allows very expressive code. However, the design of the library is based on a complex collection of types, so that most of the functions and variables can only be noted as `auto`.  \n",
    "\n",
    "`cleantype` can help in deciphering what's going on with the types with range-v3: \n",
    "\n",
    "First, we include cleantype and the range-v3 library"
   ]
  },
  {
   "cell_type": "code",
   "execution_count": 1,
   "metadata": {},
   "outputs": [],
   "source": [
    "#pragma cling add_include_path(\"./include\")\n",
    "#include <cleantype/cleantype.hpp>\n",
    "#include <range/v3/all.hpp>\n",
    "\n",
    "#define run__show(...)                  \\\n",
    "{                                       \\\n",
    "    std::cout << #__VA_ARGS__ << \"\\n\";  \\\n",
    "    std::cout << __VA_ARGS__ << \"\\n\\n\"; \\\n",
    "}\n",
    "using namespace ranges;"
   ]
  },
  {
   "cell_type": "markdown",
   "metadata": {},
   "source": [
    "Then we set the indent depth limit to 2, because indenting will make the types much easier to read, since `range-v3` uses long and deep nested types. "
   ]
  },
  {
   "cell_type": "code",
   "execution_count": 2,
   "metadata": {},
   "outputs": [],
   "source": [
    "cleantype::CleanConfiguration::GlobalConfig().indent_depth_limit = 2;"
   ]
  },
  {
   "cell_type": "markdown",
   "metadata": {},
   "source": [
    "### Example of a view that return square numbers"
   ]
  },
  {
   "cell_type": "markdown",
   "metadata": {},
   "source": [
    "Let's define a function that yields using `ranges::yield` and, then let's identify its return type."
   ]
  },
  {
   "cell_type": "code",
   "execution_count": 3,
   "metadata": {},
   "outputs": [
    {
     "name": "stdout",
     "output_type": "stream",
     "text": [
      "CT_type_fn(square_yield_fn, int)\n",
      "ranges::v3::single_view<int>\n",
      "\n"
     ]
    }
   ],
   "source": [
    "auto square_yield_fn(int x) {\n",
    "    return ranges::yield(x * x);\n",
    "}\n",
    "run__show(  CT_type_fn(square_yield_fn, int)  );"
   ]
  },
  {
   "cell_type": "markdown",
   "metadata": {},
   "source": [
    "Now, let's define a view that transform ints into squares. This view is lazy, and unlimited (it never ends). We then identify its type:"
   ]
  },
  {
   "cell_type": "code",
   "execution_count": 4,
   "metadata": {},
   "outputs": [
    {
     "name": "stdout",
     "output_type": "stream",
     "text": [
      "cleantype::clean(squares_view_fn)\n",
      "ranges::v3::join_view\n",
      "<\n",
      "    ranges::v3::transform_view\n",
      "    <\n",
      "        ranges::v3::iota_view\n",
      "        <\n",
      "            int,\n",
      "            void\n",
      "        >,\n",
      "        ranges::v3::single_view\n",
      "        <\n",
      "            int\n",
      "        > (*)(int)\n",
      "    >,\n",
      "    void\n",
      "> &\n",
      "\n"
     ]
    }
   ],
   "source": [
    "auto squares_view_fn = view::for_each(view::ints(1), square_yield_fn);\n",
    "run__show(  cleantype::clean(squares_view_fn)  );"
   ]
  },
  {
   "cell_type": "code",
   "execution_count": 5,
   "metadata": {},
   "outputs": [
    {
     "name": "stdout",
     "output_type": "stream",
     "text": [
      "cleantype::clean(squares_fn_take_10)\n",
      "ranges::v3::detail::take_exactly_view_\n",
      "<\n",
      "    ranges::v3::join_view\n",
      "    <\n",
      "        ranges::v3::transform_view\n",
      "        <\n",
      "            ranges::v3::iota_view\n",
      "            <\n",
      "                int,\n",
      "                void\n",
      "            >,\n",
      "            ranges::v3::single_view\n",
      "            <\n",
      "                int\n",
      "            > (*)(int)\n",
      "        >,\n",
      "        void\n",
      "    >,\n",
      "    false\n",
      "> &\n",
      "\n"
     ]
    }
   ],
   "source": [
    "auto squares_fn_take_10 = squares_view_fn | view::take(10);\n",
    "run__show(  cleantype::clean(squares_fn_take_10)  );"
   ]
  },
  {
   "cell_type": "markdown",
   "metadata": {},
   "source": [
    "### Example with range-v3 and lambdas:"
   ]
  },
  {
   "cell_type": "markdown",
   "metadata": {},
   "source": [
    "Since lambda are actually anonymous structs, cleantype cannot disclose the signature of the inner lambda of a view that is contructed using a lambda. "
   ]
  },
  {
   "cell_type": "code",
   "execution_count": 6,
   "metadata": {},
   "outputs": [
    {
     "name": "stdout",
     "output_type": "stream",
     "text": [
      "cleantype::lambda_clean(square_yield_lambda)\n",
      "lambda: (int) -> ranges::v3::single_view<int>\n",
      "\n",
      "cleantype::clean(squares_view_lambda)\n",
      "ranges::v3::join_view\n",
      "<\n",
      "    ranges::v3::transform_view\n",
      "    <\n",
      "        ranges::v3::iota_view\n",
      "        <\n",
      "            int,\n",
      "            void\n",
      "        >,\n",
      "        (lambda at input_line_14:5:32)\n",
      "    >,\n",
      "    void\n",
      "> &\n",
      "\n"
     ]
    }
   ],
   "source": [
    "{\n",
    "    using namespace ranges;\n",
    "    \n",
    "    auto square_yield_lambda = [](int x) {\n",
    "        return yield(x * x);\n",
    "    };\n",
    "    run__show(  cleantype::lambda_clean(square_yield_lambda)  );\n",
    "    auto squares_view_lambda = view::for_each(view::ints(1), square_yield_lambda);\n",
    "    run__show(  cleantype::clean(squares_view_lambda)  );\n",
    "}"
   ]
  },
  {
   "cell_type": "markdown",
   "metadata": {},
   "source": [
    "In an ideal world, I would be interesting to be able to display the view type as below (but I'm afraid that the code in order to get to this might be intractable).\n",
    "\n",
    "````\n",
    "ranges::v3::join_view\n",
    "<\n",
    "    ranges::v3::transform_view\n",
    "    <\n",
    "        ranges::v3::iota_view\n",
    "        <\n",
    "            int,\n",
    "            void\n",
    "        >,\n",
    "        lambda: (int) -> ranges::v3::single_view<int>\n",
    "    >,\n",
    "    void\n",
    "> &\n",
    "````"
   ]
  },
  {
   "cell_type": "markdown",
   "metadata": {},
   "source": [
    "Thus, it is advised to prefer \"auto return functions\" to lambdas when using range-v3 with cleantype."
   ]
  }
 ],
 "metadata": {
  "kernelspec": {
   "display_name": "C++17",
   "language": "C++17",
   "name": "xeus-cling-cpp17"
  },
  "language_info": {
   "codemirror_mode": "text/x-c++src",
   "file_extension": ".cpp",
   "mimetype": "text/x-c++src",
   "name": "c++",
   "version": "-std=c++17"
  }
 },
 "nbformat": 4,
 "nbformat_minor": 2
}
