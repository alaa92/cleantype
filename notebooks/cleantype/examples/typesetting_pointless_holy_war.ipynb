{
 "cells": [
  {
   "cell_type": "markdown",
   "metadata": {},
   "source": [
    "# Typesetting: the east vs west pointless holy war?"
   ]
  },
  {
   "cell_type": "code",
   "execution_count": 1,
   "metadata": {},
   "outputs": [],
   "source": [
    "#include \"cleantype_examples_utils.h\"\n",
    "#include \"types_variations.hpp\"\n",
    "#include <fplus/fplus.hpp>\n",
    "using namespace types_variations;"
   ]
  },
  {
   "cell_type": "markdown",
   "metadata": {},
   "source": [
    "In my opinion, the \"east-const\" vs \"west-const\" debate is just the tip of the iceberg. It is a sign that we would need additional \"spelling conventions\" as far as the types are concerned. Those rules might not be required for a successful compilation, but they should exist nonetheless.\n",
    "\n",
    "In written english, the spelling rules say for example that each comma (\",\") should be followed by exactly one space (etc.), as well as each question mark (\"?\"), etc.\n",
    "\n",
    "> it   is still  possible to Write a sentence &nbsp;&nbsp;&nbsp;,and to ignore totally those rules&nbsp;&nbsp;&nbsp; ;but it is considered Ugly     -and rightfuly so  -&nbsp;&nbsp;&nbsp;! \n",
    "\n",
    "Below are some examples:"
   ]
  },
  {
   "cell_type": "markdown",
   "metadata": {},
   "source": [
    "### Spacing rules\n",
    "I do not think there is an established convention about the spacing of the types (apart from the fact the C++ Core Guideline advise to uses spaces sparingly). An established convention (even if not enforced by the compiler) would be welcome.\n",
    "\n",
    "How many possible spellings for `vector<map<char **, int>>`? There is a whopping number of possibilities: 1024!\n",
    "   "
   ]
  },
  {
   "cell_type": "code",
   "execution_count": 2,
   "metadata": {},
   "outputs": [
    {
     "name": "stdout",
     "output_type": "stream",
     "text": [
      "---------------------------------------------------------------------------------\n",
      "  \"vector < map < char * * ,int > > \" - 1024 Variations  \n",
      "\t10 samples out of 1024\n",
      "---------------------------------------------------------------------------------\n",
      "\"vector < map < char * * ,int > > \"\n",
      "\"vector<map < char * * ,int>> \"\n",
      "\"vector< map <char * *,int> > \"\n",
      "\"vector <map< char ** ,int >> \"\n",
      "\"vector < map<char **,int > > \"\n",
      "\"vector<map<char **,int>> \"\n",
      "\"vector<map < char* * ,int> > \"\n",
      "\"vector< map <char* *,int >> \"\n",
      "\"vector <map< char** ,int > > \"\n",
      "\"vector < map< char**,int>> \"\n",
      "\n"
     ]
    }
   ],
   "source": [
    "{\n",
    "    std::string type1 = \"vector<map<char**,int>>\";\n",
    "    auto l = space_variations(type1);\n",
    "    std::cout << show_type_string_list(l);\n",
    "}"
   ]
  },
  {
   "cell_type": "markdown",
   "metadata": {},
   "source": [
    "### East vs west\n",
    "Below is the cursed `const T * const` vs `T const * const` example. \n",
    "\n",
    "My personal preference goes to `const int * const` (i.e spaces everywhere, and the \"const\" keyword is kept close to _what is const_). \n",
    "\n",
    "However, who cares about my personal preference? \n",
    "<br/>I do not even care that much!\n",
    "<br/>I would strongly prefer to have an established convention to which I could refer."
   ]
  },
  {
   "cell_type": "code",
   "execution_count": 3,
   "metadata": {},
   "outputs": [
    {
     "name": "stdout",
     "output_type": "stream",
     "text": [
      "--------------------------------------\n",
      "  \"const int * const\" - 8 Variations  \n",
      "--------------------------------------\n",
      "\"const int * const\"\n",
      "\"const int *const\"\n",
      "\"const int* const\"\n",
      "\"const int*const\"\n",
      "\"int const * const\"\n",
      "\"int const *const\"\n",
      "\"int const* const\"\n",
      "\"int const*const\"\n",
      "\n"
     ]
    }
   ],
   "source": [
    "{\n",
    "    auto f = combine_transforms(add_const_ptr_const, space_variations);\n",
    "    std::cout << show_type_string_list(f(\"int\"));\n",
    "}"
   ]
  },
  {
   "cell_type": "markdown",
   "metadata": {},
   "source": [
    "### To struct or not to struct\n",
    "In C++, the `struct` (or `class`) keywords can be ellided. \n",
    "\n",
    "However, MSVC chose to *not* ellide them in its `typeid` implementation, so that for `const Foo & ` we have the following possibilities:"
   ]
  },
  {
   "cell_type": "code",
   "execution_count": 4,
   "metadata": {},
   "outputs": [
    {
     "name": "stdout",
     "output_type": "stream",
     "text": [
      "--------------------------------------------------------\n",
      "  \"const Foo & \" - 16 Variations  \n",
      "\t10 samples out of 16\n",
      "--------------------------------------------------------\n",
      "\"const Foo & \"\n",
      "\"const Foo &\"\n",
      "\"const Foo& \"\n",
      "\"const Foo&\"\n",
      "\"Foo const & \"\n",
      "\"Foo const &\"\n",
      "\"Foo const& \"\n",
      "\"Foo const&\"\n",
      "\"const struct Foo & \"\n",
      "\"const struct Foo &\"\n",
      "\n"
     ]
    }
   ],
   "source": [
    "{\n",
    "    auto f = combine_transforms(\n",
    "        compiler_maybe_add_struct, add_const_ref, space_variations);\n",
    "    std::cout << show_type_string_list(f(\"Foo\"));\n",
    "}\n"
   ]
  },
  {
   "cell_type": "markdown",
   "metadata": {},
   "source": [
    "### On compiler and libc conventions\n",
    "Compilers and libc implementations add their dose of complexity to the mix, since they add synonyms to the `std` namespace (`std::__1::` or `std::__cxx11::`) and Visual Studio can modify pointer types by adding `__ptr64` or `__ptr32`, whenever the compilation is done in 64 bits.\n",
    "\n",
    "Let's examine the possible spellings of `std::vector<const char *>` by different compilers and/or different libc implementations:"
   ]
  },
  {
   "cell_type": "code",
   "execution_count": 5,
   "metadata": {},
   "outputs": [
    {
     "name": "stdout",
     "output_type": "stream",
     "text": [
      "--------------------------------------------------------------------\n",
      "  \"std::vector<const char*>\" - 32 Variations  \n",
      "\t10 samples out of 32\n",
      "--------------------------------------------------------------------\n",
      "\"std::vector<const char*>\"\n",
      "\"std::vector<const char*>\"\n",
      "\"std::__1::vector<const char*, std::__1::allocator<const char*>>\"\n",
      "\"std::__cxx11::vector<char* const>\"\n",
      "\"std::vector<char* const, std::allocator<char* const>>\"\n",
      "\"std::vector<char* const, std::allocator<char* const>>\"\n",
      "\"std::__1::vector<const char* __ptr64>\"\n",
      "\"std::__cxx11::vector<const char* __ptr64, std::__cxx11::allocator<const char* __ptr64>>\"\n",
      "\"std::vector<char* __ptr64 const>\"\n",
      "\"std::vector<char* __ptr64 const>\"\n",
      "\n"
     ]
    }
   ],
   "source": [
    "{\n",
    "    auto f = combine_transforms(\n",
    "        compiler_maybe_add_ptr64, add_const, add_vector, compiler_maybe_add_std_namespace);\n",
    "    std::cout << show_type_string_list(f(\"char\"));\n",
    "}"
   ]
  },
  {
   "cell_type": "markdown",
   "metadata": {},
   "source": [
    "### Types indentation\n",
    "When types become more complex, an indentation quickly becomes needed. An established convention on how to indent them would also be worthwile. \n",
    "Subjects like \"when to start indenting\" (after 2 or 3 nested levels for example), and how to indent are interesting subjects to be adressed.\n",
    "\n",
    "One possible way to indent type could state that\n",
    "```\n",
    "join_view<transform_view<iota_view<int, void>, single_view<int> (*)(int)>, void> &\n",
    "```\n",
    "\n",
    "should be indented like this:\n",
    "```\n",
    "join_view<\n",
    "    transform_view<\n",
    "        iota_view<\n",
    "            int,\n",
    "            void\n",
    "        >,\n",
    "        single_view<\n",
    "            int\n",
    "        > (*)(int)\n",
    "    >,\n",
    "    void\n",
    "> &\n",
    "```\n",
    "\n",
    "This indentation style is the default indentation style provided by [CleanType](https://github.com/pthom/cleantype#table-of-content)"
   ]
  },
  {
   "cell_type": "markdown",
   "metadata": {},
   "source": [
    "### Note on const / volatile / noexcept qualifiers\n",
    "All the previous examples mentioned types spellings that are _exact synonyms_, i.e they denote exactly the same type. \n",
    "\n",
    "However in C++, there are also _close synomyms_ with the afore mentioned qualifiers. They are a different subject, and for example the [Boost CallableTraits manual](https://www.boost.org/doc/libs/master/libs/callable_traits/doc/html/index.html#callable_traits.introduction.motivation) gives a complete list of the possible variations for callable functions."
   ]
  }
 ],
 "metadata": {
  "kernelspec": {
   "display_name": "C++17",
   "language": "C++17",
   "name": "xeus-cling-cpp17"
  },
  "language_info": {
   "codemirror_mode": "text/x-c++src",
   "file_extension": ".cpp",
   "mimetype": "text/x-c++src",
   "name": "c++",
   "version": "-std=c++17"
  }
 },
 "nbformat": 4,
 "nbformat_minor": 2
}
