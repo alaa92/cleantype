{
 "cells": [
  {
   "cell_type": "code",
   "execution_count": 1,
   "metadata": {},
   "outputs": [],
   "source": [
    "#include \"cleantype_examples_utils.h\""
   ]
  },
  {
   "cell_type": "code",
   "execution_count": 2,
   "metadata": {},
   "outputs": [],
   "source": [
    "namespace\n",
    "{\n",
    "    std::string enclose_string(const std::string & s)\n",
    "    {\n",
    "        using namespace std::string_literals;\n",
    "        return \"\\\"\"s + s + \"\\\"\"s;\n",
    "    }\n",
    "\n",
    "    std::array<std::string, 2> int_to_strings(int value)\n",
    "    {\n",
    "        return {enclose_string(int_to_string(value)), enclose_string(int_to_roman(value))};\n",
    "    }\n",
    "}  // namespace"
   ]
  },
  {
   "cell_type": "code",
   "execution_count": 3,
   "metadata": {},
   "outputs": [],
   "source": [
    "auto make_cache_int_strings = [](int limit) {\n",
    "    auto numbers = fplus::numbers(1, limit + 1);\n",
    "    auto strs = fplus::transform([](int x) { return int_to_strings(x); }, numbers);\n",
    "    return fplus::create_map(numbers, strs);\n",
    "};;"
   ]
  },
  {
   "cell_type": "code",
   "execution_count": 4,
   "metadata": {},
   "outputs": [
    {
     "name": "stdout",
     "output_type": "stream",
     "text": [
      "cleantype::lambda_clean(make_cache_int_strings)\n",
      "lambda: (int) -> std::map\n",
      "<\n",
      "    int,\n",
      "    std::array\n",
      "    <\n",
      "        std::string,\n",
      "        2\n",
      "    >\n",
      ">\n",
      "\n"
     ]
    }
   ],
   "source": [
    "cleantype::set_indent_depth_limit(1);\n",
    "run_show(    cleantype::lambda_clean(make_cache_int_strings)    );"
   ]
  },
  {
   "cell_type": "code",
   "execution_count": 5,
   "metadata": {},
   "outputs": [
    {
     "name": "stdout",
     "output_type": "stream",
     "text": [
      "CT_show_details(five_numbers)\n",
      "[std::map\n",
      "<\n",
      "    int,\n",
      "    std::array\n",
      "    <\n",
      "        std::string,\n",
      "        2\n",
      "    >\n",
      ">] five_numbers = [(1, [\"1\", \"I\"]), (2, [\"2\", \"II\"]), (3, [\"3\", \"III\"]), (4, [\"4\", \"IV\"]), (5, [\"5\", \"V\"])]\n",
      "\n"
     ]
    }
   ],
   "source": [
    "auto five_numbers = make_cache_int_strings(5);\n",
    "run_show(     CT_show_details(five_numbers)    );"
   ]
  }
 ],
 "metadata": {
  "kernelspec": {
   "display_name": "C++17",
   "language": "C++17",
   "name": "xeus-cling-cpp17"
  },
  "language_info": {
   "codemirror_mode": "text/x-c++src",
   "file_extension": ".cpp",
   "mimetype": "text/x-c++src",
   "name": "c++",
   "version": "-std=c++17"
  }
 },
 "nbformat": 4,
 "nbformat_minor": 2
}
