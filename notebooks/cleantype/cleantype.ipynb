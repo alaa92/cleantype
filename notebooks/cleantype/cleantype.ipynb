{
 "cells": [
  {
   "cell_type": "markdown",
   "metadata": {
    "slideshow": {
     "slide_type": "slide"
    }
   },
   "source": [
    "<table>\n",
    "    <tr>\n",
    "      <td>\n",
    "        Travis <a href=\"https://travis-ci.org/pthom/cleantype/\"> <img src=\"https://travis-ci.org/pthom/cleantype.svg?branch=master\" /> </a>\n",
    "     </td>\n",
    "     <td>\n",
    "        Windows <a href=\"https://ci.appveyor.com/project/pthom/cleantype\"> <img src=\"https://ci.appveyor.com/api/projects/status/s6wmhg5q9l69w7aq/branch/master?svg=true\" /> </a>\n",
    "    </td>\n",
    "     <td>\n",
    "        License <a href=\"https://www.boost.org/LICENSE_1_0.txt\"> <img src=\"https://img.shields.io/badge/license-boost%201.0-blue.svg\" /> </a>\n",
    "    </td>\n",
    "    <td>\n",
    "        Try this online!\n",
    "        <a href=\"https://mybinder.org/v2/gh/pthom/cleantype/master?filepath=notebooks%2Fcleantype%2Fcleantype.ipynb\"> \n",
    "            <img src=\"https://mybinder.org/badge_logo.svg\" /> \n",
    "        </a>\n",
    "    </tr>\n",
    "</table> \n",
    "\n",
    "# `cleantype` : Readable C++ Types and Lambda signatures / Compiler Decipherer\n",
    "\n",
    "`cleantype`is a small header only library which offer *readable* type names, with a *consistent naming scheme accross compilers*, at *run-time* and *compile-time*. It can also output the *signature of lambda* functions.\n",
    "\n",
    "The included tool `ct_compiler_decipher` simplifies the template noise in your compiler output : just ` \"|\" (pipe)` your build tool to it.\n",
    "\n",
    "It can be seeen as a developper friendly `typeid` alternative, and as a tool for those who are tired by the template noise in the compiler output.\n",
    "   "
   ]
  },
  {
   "cell_type": "markdown",
   "metadata": {},
   "source": [
    "#### Motivation\n",
    "\n",
    "In C++, [typeid.name()](https://en.cppreference.com/w/cpp/language/typeid) is able to display the type of variables.\n",
    "However it has several limitations: `const`, `volatile`, `&&`qualifiers are ignored; it cannot identify the signature of lambdas function, and last but not least, the returned name if often unreadable : for example `std::set<std::string>` becomes\n",
    " ````\n",
    " std::set<std::__cxx11::basic_string<char, std::char_traits<char>, std::allocator<char> >, std::less<std::__cxx11::basic_string<char, std::char_traits<char>, std::allocator<char> > >, std::allocator<std::__cxx11::basic_string<char, std::char_traits<char>, std::allocator<char> > > >\n",
    " ````\n",
    "\n",
    "This library tries to overcomes some of these limitations. It is composed mainly of C++11 / C++14 functions. It also contains some macros in order to be able to display rvalue reference type, as well as variables names. Macros are prepended with a suffix 'm_'.\n",
    "\n",
    "The returned types names should be similar accross compilers.\n",
    "\n",
    "#### Status\n",
    "\n",
    "Note: this library is heavily [tested](https://github.com/pthom/cleantype/tree/master/src/include/cleantype/tests), with clang, gcc and msvc. However, it should be considered *alpha* state."
   ]
  },
  {
   "cell_type": "markdown",
   "metadata": {
    "slideshow": {
     "slide_type": "slide"
    }
   },
   "source": [
    "# Installation and usage\n",
    "\n",
    "* `cleantype`is a small header only library, so you just need to clone it and add it to your path.\n",
    "\n",
    "Then, include [cleantype/cleantype.hpp](src/include/cleantype/cleantype.hpp) (this file includes a comprehensive API doc)\n",
    "\n",
    "* `ct_compiler_decipher` is comprised of a single c++ file. It's compilation can be done via `make`\n",
    "or via `$(CXX) -Isrc/include -Ithird_party/FunctionalPlus/include --std=c++14 src/tools/ct_compiler_decipher/ct_compiler_decipher.cpp -o ct_compiler_decipher`"
   ]
  },
  {
   "cell_type": "markdown",
   "metadata": {},
   "source": [
    "# About this manual\n",
    "\n",
    "This manual is written using [cling](https://root.cern.ch/cling), [xeus cling](https://xeus-cling.readthedocs.io/en/latest/) and [jupyter notebook](https://jupyter.org/). Cling enables a Read-Eval-Print-Loop (REPL) development mode with C++. This approach benefits a lot from having a good type introspection, which is the aim of this library. \n",
    "\n",
    "The code that you read in this manual is real live code that can be executed inside jupyter notebook. \n",
    "You can try it directly inside [binder](https://mybinder.org/) : click on the \"launch binder\" at the top of this page.<br/>\n",
    "Notes:\n",
    "* Beware, it require about 2 minutes to load; but then you will be able to run the code live from your browser!\n",
    "* Inside the notebook, click on the \"Run\" button in order to execute each cell (in order)\n",
    "* You can modify and run the code as you desire inside binder!\n",
    "* Note that there is a limitation in cling that *requires that you add two \";\" after each lambda function definition*\n",
    "\n",
    "The \"#pragma cling add_include_path\" is specific to cling. Beside this, everything is standard C++."
   ]
  },
  {
   "cell_type": "code",
   "execution_count": 1,
   "metadata": {
    "slideshow": {
     "slide_type": "-"
    }
   },
   "outputs": [],
   "source": [
    "// Special macro to change the include path (this is required for the binder demo)\n",
    "#pragma cling add_include_path(\"./include\")\n",
    "#include <cleantype/cleantype.hpp>\n",
    "\n",
    "// The includes below are not required, they are just used for the purpose of this manual\n",
    "#include <future> \n",
    "#include <numeric>\n",
    "#include <fplus/fplus.hpp>"
   ]
  },
  {
   "cell_type": "code",
   "execution_count": 2,
   "metadata": {
    "slideshow": {
     "slide_type": "subslide"
    }
   },
   "outputs": [],
   "source": [
    "// This macro is used later in this manual in order to display commands and their results\n",
    "#define run_show(cmd)           \\\n",
    "{                               \\\n",
    "    std::cout << #cmd << \"\\n\";  \\\n",
    "    std::cout << cmd << \"\\n\\n\"; \\\n",
    "}"
   ]
  },
  {
   "cell_type": "markdown",
   "metadata": {
    "slideshow": {
     "slide_type": "slide"
    }
   },
   "source": [
    "# Friendly type names for variables (clean type, name and value)"
   ]
  },
  {
   "cell_type": "markdown",
   "metadata": {},
   "source": [
    " ## Readable type names \n",
    "                 \n",
    "* `cleantype::clean<T...>()` is a function that will return a string containing\n",
    "   a readable type, for a given type or pack of types\n",
    "   Use it with \"cleantype::clean<decltype(var)>()\"<br/>\n",
    "   Note: It will add a reference by default so that \"int v = 5; cleantype::clean(v)\" will return \"int&\". \n",
    "   Use the macro CT_cleantype_clean() if you want to avoid this\n",
    "\n",
    "* `cleantype::clean<T...>(t...)` is a an easier version, using an instance of the type.<br/>\n",
    "    Notes:\n",
    "     * It will add a reference. Use the macro CT_cleantype_clean() if you want to avoid this\n",
    "     * It is not able to output correctly r-value references. For this, use `cleantype::clean<decltype(var)>()`\n",
    "\n",
    "* `cleantype::show_details(T && v)` is a function that will return a string containing\n",
    "   the readable type of a variable, as well as its content\n",
    "\n",
    "* `CT_cleantype_clean(var)` is a macro that will also return the full type,\n",
    "   but, it is able to also correctly display rvalue reference types.\n",
    "\n",
    "*  `CT_show_details(var)` is a macro that will return a string containing the name,\n",
    "   type and content of a variable (in this case, the underlying type of 'var'\n",
    "   has to have an 'ostream & operator<<')\n",
    "\n",
    "* `CT_show_details_cont` (macro) is a version of CT_show_details for complex containers\n",
    "   like \"std::map\". \"cont\" stands for \"container\".\n",
    "\n",
    "### Examples"
   ]
  },
  {
   "cell_type": "code",
   "execution_count": 3,
   "metadata": {
    "slideshow": {
     "slide_type": "subslide"
    }
   },
   "outputs": [],
   "source": [
    "// Lets define a function with an auto return type : what is its return type?\n",
    "auto my_range(int nb)\n",
    "{\n",
    "    std::list<int> l(nb);\n",
    "    std::iota(l.begin(), l.end(), 1);\n",
    "    return l;\n",
    "}\n",
    "auto v = my_range(5);"
   ]
  },
  {
   "cell_type": "code",
   "execution_count": 4,
   "metadata": {
    "slideshow": {
     "slide_type": "subslide"
    }
   },
   "outputs": [
    {
     "name": "stdout",
     "output_type": "stream",
     "text": [
      "cleantype::clean(v)\n",
      "std::list<int> &\n",
      "\n",
      "cleantype::clean<decltype(v)>()\n",
      "std::list<int>\n",
      "\n",
      "cleantype::show_details(v)\n",
      "std::list<int> & = [1, 2, 3, 4, 5]\n",
      "\n",
      "CT_cleantype_clean(v)\n",
      "std::list<int>\n",
      "\n",
      "CT_show_details(v)\n",
      "[std::list<int>] v = [1, 2, 3, 4, 5]\n",
      "\n"
     ]
    }
   ],
   "source": [
    "run_show(     cleantype::clean(v)                   )\n",
    "run_show(     cleantype::clean<decltype(v)>()       )\n",
    "run_show(     cleantype::show_details(v)            )\n",
    "run_show(     CT_cleantype_clean(v)                 )\n",
    "run_show(     CT_show_details(v)                    )"
   ]
  },
  {
   "cell_type": "markdown",
   "metadata": {},
   "source": [
    "### Example with rvalue references\n",
    "Below, an where a function receives value by r-value references and can display its type & value correctly."
   ]
  },
  {
   "cell_type": "code",
   "execution_count": 5,
   "metadata": {},
   "outputs": [
    {
     "name": "stdout",
     "output_type": "stream",
     "text": [
      "int &&\n",
      "[int &&] v = 42\n"
     ]
    }
   ],
   "source": [
    "{\n",
    "    auto log_received = [](auto && v) {\n",
    "        std::cout << cleantype::full<decltype(v)>() << std::endl;\n",
    "        std::cout << CT_show_details(v) << \"\\n\";\n",
    "    };\n",
    "    log_received(42);\n",
    "}"
   ]
  },
  {
   "cell_type": "markdown",
   "metadata": {},
   "source": [
    "### Examples with arguments pack"
   ]
  },
  {
   "cell_type": "code",
   "execution_count": 6,
   "metadata": {},
   "outputs": [
    {
     "name": "stdout",
     "output_type": "stream",
     "text": [
      "int, char const( &)[6]\n",
      "std::string, int, int &&, char &&\n"
     ]
    }
   ],
   "source": [
    "std::cout << cleantype::clean(1, \"Hello\") << std::endl;\n",
    "std::cout << cleantype::clean<std::string, int, int &&, char &&>() << std::endl;"
   ]
  },
  {
   "cell_type": "markdown",
   "metadata": {},
   "source": [
    "### Configuration of the clean types\n",
    "\n",
    "You can customize the suppressions and replacements inside [cleantype/cleantype_configuration.hpp](src/include/cleantype/cleantype_configuration.hpp)"
   ]
  },
  {
   "cell_type": "markdown",
   "metadata": {
    "slideshow": {
     "slide_type": "slide"
    }
   },
   "source": [
    "## Full type names\n",
    "* `cleantype::full<T...>()` is a function that will return a string containing\n",
    "   the full type. It also works with packs of types. Use it with \"cleantype::full<decltype(var)>()\"<br/>\n",
    "   It will add a reference by default so that \"int v = 5; cleantype::full(v)\" will return \"int&\". \n",
    "   Use the macro CT_cleantype_full() if you want to avoid this\n",
    "\n",
    "* `cleantype::full<T...>(t...)` is a an easier version, using an instance of the type.<br/>\n",
    "   Notes:\n",
    "     * It will add a reference by default so that\n",
    "        int v = 5; cleantype::full(v) will return \"int&\"\n",
    "        => use the macro CT_cleantype_full() if you want to avoid this\n",
    "     * It is not able to output correctly r-value references\n",
    "         For this, use `cleantype::full<decltype(var)>()`\n",
    "\n",
    "* `cleantype::show_details_full(T && v)` is a function that will return a string containing\n",
    "   the full type of a variable, as well as its content\n",
    "\n",
    "* `CT_cleantype_full(var)` is a macro that will also return the full type,\n",
    "   but, it is able to also correctly display rvalue reference types.\n",
    "\n",
    "*  `CT_show_details_full(var)` is a macro that will return a string containing the name,\n",
    "   type and content of a variable (in this case, the underlying type of 'var'\n",
    "   has to have an 'ostream & operator<<')\n",
    "\n",
    "* `CT_show_details_full_cont` is a version of CT_show_details_full for complex containers\n",
    "   like \"std::map\". \"cont\" stands for \"container\".\n",
    "\n"
   ]
  },
  {
   "cell_type": "code",
   "execution_count": 7,
   "metadata": {
    "slideshow": {
     "slide_type": "subslide"
    }
   },
   "outputs": [
    {
     "name": "stdout",
     "output_type": "stream",
     "text": [
      "cleantype::full(w)\n",
      "std::__cxx11::list<int, std::allocator<int> > &\n",
      "\n",
      "cleantype::full<decltype(w)>()\n",
      "std::__cxx11::list<int, std::allocator<int> >\n",
      "\n",
      "cleantype::show_details_full(w)\n",
      "[std::__cxx11::list<int, std::allocator<int> > &] = [1, 2, 3, 4, 5, 6, 7, 8, 9, 10]\n",
      "\n",
      "CT_cleantype_full(w)\n",
      "std::__cxx11::list<int, std::allocator<int> >\n",
      "\n",
      "CT_show_details_full(w)\n",
      "[std::__cxx11::list<int, std::allocator<int> >] w = [1, 2, 3, 4, 5, 6, 7, 8, 9, 10]\n",
      "\n"
     ]
    }
   ],
   "source": [
    "auto w = my_range(10);\n",
    "run_show(     cleantype::full(w)                         )\n",
    "run_show(     cleantype::full<decltype(w)>()             )\n",
    "run_show(     cleantype::show_details_full(w)            )\n",
    "run_show(     CT_cleantype_full(w)                       )\n",
    "run_show(     CT_show_details_full(w)                    )"
   ]
  },
  {
   "cell_type": "markdown",
   "metadata": {
    "slideshow": {
     "slide_type": "subslide"
    }
   },
   "source": [
    "### Full type versus readable type :\n",
    "Full types can quickly become unreadable, especially with templated types, such as in the STL."
   ]
  },
  {
   "cell_type": "code",
   "execution_count": 8,
   "metadata": {},
   "outputs": [
    {
     "name": "stdout",
     "output_type": "stream",
     "text": [
      "cleantype::show_details_full(my_set)\n",
      "[std::set<std::__cxx11::basic_string<char, std::char_traits<char>, std::allocator<char> >, std::less<std::__cxx11::basic_string<char, std::char_traits<char>, std::allocator<char> > >, std::allocator<std::__cxx11::basic_string<char, std::char_traits<char>, std::allocator<char> > > > &] = [Hello, There]\n",
      "\n",
      "cleantype::show_details(my_set)\n",
      "std::set<std::string> & = [Hello, There]\n",
      "\n"
     ]
    }
   ],
   "source": [
    "std::set<std::string> my_set { \"Hello\", \"There\"};\n",
    "run_show(     cleantype::show_details_full(my_set)               )\n",
    "run_show(     cleantype::show_details(my_set)                    )"
   ]
  },
  {
   "cell_type": "markdown",
   "metadata": {
    "slideshow": {
     "slide_type": "slide"
    }
   },
   "source": [
    "## Display the content of complex containers\n",
    "\n",
    "* `CT_show_details_cont` (macro) is a version of CT_show_details for complex containers\n",
    "   like \"std::map\". \"cont\" stands for \"container\".\n",
    "* `CT_show_details_full_cont` enables to display the full type and content\n",
    "\n",
    "These version are required for certains more complex containers, like \"std::map\". \"cont\" stands for \"container\"."
   ]
  },
  {
   "cell_type": "code",
   "execution_count": 9,
   "metadata": {},
   "outputs": [
    {
     "name": "stdout",
     "output_type": "stream",
     "text": [
      "CT_show_details_cont(my_map)\n",
      "[std::map<std::string, int>] my_map = [(a, 1), (b, 2), (c, 3)]\n",
      "\n",
      "CT_show_details_full_cont(my_map)\n",
      "[std::map<std::__cxx11::basic_string<char, std::char_traits<char>, std::allocator<char> >, int, std::less<std::__cxx11::basic_string<char, std::char_traits<char>, std::allocator<char> > >, std::allocator<std::pair<const std::__cxx11::basic_string<char, std::char_traits<char>, std::allocator<char> >, int> > >] my_map = [(a, 1), (b, 2), (c, 3)]\n",
      "\n"
     ]
    }
   ],
   "source": [
    "std::map<std::string, int> my_map {{{\"a\", 1}, {\"b\", 2}, {\"c\", 3} }};\n",
    "run_show(     CT_show_details_cont(my_map)                    )\n",
    "run_show(     CT_show_details_full_cont(my_map)               )"
   ]
  },
  {
   "cell_type": "markdown",
   "metadata": {},
   "source": [
    "# Decipher compiler output and identify types and compile time\n",
    "\n",
    "* `ct_compiler_decipher` is a tool that deciphers the compiler output and makes it more readable, especially when there are lots of templates\n",
    "* `CT_compiler_log_type(T)` is a macro that will create an intentional compiler error whose intent is to display the type name of T. You can use it in conjunction with \"ct_compiler_decipher\".\n",
    "* `CT_compiler_log_var_type` is a macro that will create an intentional compiler error whose intent is to display the type name of the variable var. You can use it in conjunction with \"ct_compiler_decipher\"."
   ]
  },
  {
   "cell_type": "markdown",
   "metadata": {},
   "source": [
    "## Decipher the compiler output\n",
    "\n",
    "#### Build `ct_compiler_decipher`\n",
    "First let's build ct_compiler_decipher : it is composed of unique cpp file, so that it's compilation is extremely easy"
   ]
  },
  {
   "cell_type": "code",
   "execution_count": 10,
   "metadata": {},
   "outputs": [
    {
     "name": "stdout",
     "output_type": "stream",
     "text": [
      "make 2>&1\n",
      "g++ -Isrc/include -Ithird_party/FunctionalPlus/include --std=c++14 src/tools/ct_compiler_decipher/ct_compiler_decipher.cpp -o ct_compiler_decipher\n"
     ]
    }
   ],
   "source": [
    "#include \"build_ct_tools.cpp\"\n",
    "make_ct_compiler_decipher();"
   ]
  },
  {
   "cell_type": "markdown",
   "metadata": {},
   "source": [
    "#### Sample code with an error for which we want to deciher the compiler output\n",
    "The code below is intentionally bad, in order to get the compiler to spit incomprehensible template errors. Do not even try to make sense out of it :-)"
   ]
  },
  {
   "cell_type": "code",
   "execution_count": 11,
   "metadata": {},
   "outputs": [],
   "source": [
    "std::string code =\n",
    "R\"CODE(\n",
    " #include <fplus/fplus.hpp>\n",
    " #include <string>\n",
    " #include <map>\n",
    " #include <vector>\n",
    "\n",
    "auto my_spurious_lambda = [](int a, int b) {\n",
    "    std::map<std::string, int> r1;\n",
    "    std::vector<decltype(r1)> r2;\n",
    "    for (std::size_t i = 0; i < b; i++) r2.push_back(r1);\n",
    "    auto add_one = [](auto x) { return x + 1; };\n",
    "    auto r3 = fplus::transform(add_one, r2);\n",
    "    return r3;\n",
    "};\n",
    "\n",
    "int main() { auto v = my_spurious_lambda(1, 3); }\n",
    "\n",
    ")CODE\";"
   ]
  },
  {
   "cell_type": "markdown",
   "metadata": {},
   "source": [
    "#### Compile and decipher\n",
    "Let's compile it with the default compiler. Below, we only show the begining of the compiler output (it is followed by around 90 similar lines)."
   ]
  },
  {
   "cell_type": "code",
   "execution_count": 12,
   "metadata": {},
   "outputs": [
    {
     "name": "stdout",
     "output_type": "stream",
     "text": [
      "clang++ --std=c++14 -c code.cpp -Iinclude -o a.out 2>&1 | head -3 2>&1\n",
      "code.cpp:10:42: error: invalid operands to binary expression ('std::map<std::__cxx11::basic_string<char>, int, std::less<std::__cxx11::basic_string<char> >, std::allocator<std::pair<const std::__cxx11::basic_string<char>, int> > >' and 'int')\n",
      "    auto add_one = [](auto x) { return x + 1; };\n",
      "                                       ~ ^ ~\n"
     ]
    }
   ],
   "source": [
    "compile_code__extract(code);"
   ]
  },
  {
   "cell_type": "markdown",
   "metadata": {},
   "source": [
    "Let's commpile it and pipe the compiler output to `ct_compiler_decipher`:\n",
    "```bash\n",
    "clang++ --std=c++14 -c code.cpp -Iinclude -o a.out 2>&1 | ct_compiler_decipher\n",
    "```"
   ]
  },
  {
   "cell_type": "code",
   "execution_count": 13,
   "metadata": {},
   "outputs": [
    {
     "name": "stdout",
     "output_type": "stream",
     "text": [
      "clang++ --std=c++14 -c code.cpp -Iinclude -o a.out 2>&1 | ct_compiler_decipher | head -3 2>&1\n",
      "code.cpp:10:42: error: invalid operands to binary expression ('std::map<std::string, int> ' and 'int')\n",
      "    auto add_one = [](auto x) { return x + 1; };\n",
      "                                       ~ ^ ~\n"
     ]
    }
   ],
   "source": [
    "compile_code_decipher__extract(code);"
   ]
  },
  {
   "cell_type": "markdown",
   "metadata": {},
   "source": [
    "## Identify types names at compile time, with clean names\n",
    "\n",
    "Sometimes it is easier to be able to identify a type at compile time. This is especially true, if the code in question is run long after the application start.\n",
    "\n",
    "In this case, the macros `CT_compiler_log_type(T)` and `CT_compiler_log_var_type` come handy. They  will create an intentional compiler error whose intent is to display the type name of the variable var. You can use them in conjunction with \"ct_compiler_decipher\".\n",
    "\n",
    "See an example below:"
   ]
  },
  {
   "cell_type": "code",
   "execution_count": 14,
   "metadata": {},
   "outputs": [],
   "source": [
    "std::string code2 =\n",
    "R\"CODE(\n",
    " #include <cleantype/cleantype.hpp>\n",
    " #include <fplus/fplus.hpp>\n",
    " \n",
    " auto mystery_lambda = [](int end) {    \n",
    "    return fplus::overlapping_pairs_cyclic( fplus::numbers(0, end) );\n",
    " };\n",
    " int main() {\n",
    "    auto v = mystery_lambda(10);\n",
    "    CT_compiler_log_var_type(v); // Here we ask the compiler to give us the type of v\n",
    " }\n",
    ")CODE\";"
   ]
  },
  {
   "cell_type": "code",
   "execution_count": 15,
   "metadata": {},
   "outputs": [
    {
     "name": "stdout",
     "output_type": "stream",
     "text": [
      "clang++ --std=c++14 -c code.cpp -Iinclude -o a.out 2>&1 | ct_compiler_decipher | head -3 2>&1\n",
      "code.cpp:10:5: error: no member named 'IntentionalError' in 'std::vector<std::pair<int, int>> '\n",
      "    CT_compiler_log_var_type(v); // Here we ask the compiler to give us the type of v\n",
      "    ^                        ~\n"
     ]
    }
   ],
   "source": [
    "compile_code_decipher__extract(code2);"
   ]
  },
  {
   "cell_type": "markdown",
   "metadata": {},
   "source": [
    "# constexpr Compile time type names\n",
    "\n",
    "### Get the typename as a Boost.Hana string\n",
    "\n",
    "* `cleantype::full_compiletime<T>()` will give you the full name of a type in the form of a Boost.Hana string.\n",
    "\n",
    "**Note:** For this, you need to manually include \"cleantype/cleantype_compiler_typename.hpp\", and to have boost in your include path. The rest of the library (including ct_compiler_decipherer) can be compiled in a standalone way.\n",
    "\n",
    "\n",
    "### Note about constexpr type names:\n",
    "\n",
    "The basic idea of having compile time type name is to use `__PRETTY_FUNCTION__` as a way to get the type name in a constexpr way. The original idea comes from the [ctti library](https://github.com/Manu343726/ctti), and is also used inside Boost.Hana's [experimental/type_name.hpp](https://github.com/boostorg/hana/blob/master/include/boost/hana/experimental/type_name.hpp). \n",
    "\n",
    "This project goes beyond what was done in these projects, by adding a support for gcc and msvc (only clang was supported originaly).\n",
    "\n",
    "Based on the work done during the development of this librayr, a [Pull Request](https://github.com/boostorg/hana/pull/432) was posted to Boost.Hana. It proposes to include the support of MSVC and GCC for boost/hana/experimental/type_name.hpp.\n"
   ]
  },
  {
   "cell_type": "markdown",
   "metadata": {
    "slideshow": {
     "slide_type": "slide"
    }
   },
   "source": [
    "# Identify the signature of lambdas"
   ]
  },
  {
   "cell_type": "markdown",
   "metadata": {},
   "source": [
    "* `cleantype::lambda<typename... Args, typename Lambda>(Lambda fn, bool flag_clean)` is a function that will return\n",
    "    a string containing the signature of a lambda. flag_clean controls wether the signature is cleaned or not.\n",
    "\n",
    "* `cleantype::lambda_clean<typename... Args, typename Lambda>(Lambda fn)` is a function that will return a string containing the readable signature of a lambda.\n",
    "\n",
    "* `cleantype::lambda_full<typename... Args, typename Lambda>(Lambda fn)` is a function that will return a string containing the full signature of a lambda\n",
    "\n",
    "*  `CT_show_details_lambda(var)` is a macro that will return a string containing the\n",
    "   readable signature of a lambda and its name\n",
    "\n",
    "*  `CT_show_details_lambda_full(var)` is a macro that will return a string containing the\n",
    "   full signature of a lambda and its name\n",
    "\n",
    "It is not alway easy to guess the return type of lambda. See the lambda below for example : it's return type is not easy to guess:"
   ]
  },
  {
   "cell_type": "code",
   "execution_count": 16,
   "metadata": {
    "slideshow": {
     "slide_type": "subslide"
    }
   },
   "outputs": [],
   "source": [
    "int start = 5;\n",
    "// what is the return type of this lambda ?\n",
    "auto mystery_lambda = [&start](int end) {    \n",
    "    return fplus::overlapping_pairs_cyclic( fplus::numbers(start, end) );\n",
    "};;"
   ]
  },
  {
   "cell_type": "code",
   "execution_count": 20,
   "metadata": {},
   "outputs": [
    {
     "name": "stdout",
     "output_type": "stream",
     "text": [
      "cleantype::lambda_clean(mystery_lambda)\n",
      "lambda: (int) -> std::vector<std::pair<int, int>>\n",
      "\n",
      "CT_show_details_lambda(mystery_lambda)\n",
      "[lambda: (int) -> std::vector<std::pair<int, int>>] mystery_lambda\n",
      "\n"
     ]
    }
   ],
   "source": [
    "// Let's see\n",
    "run_show(            cleantype::lambda_clean(mystery_lambda)          );\n",
    "run_show(            CT_show_details_lambda(mystery_lambda)           );"
   ]
  },
  {
   "cell_type": "markdown",
   "metadata": {
    "slideshow": {
     "slide_type": "subslide"
    }
   },
   "source": [
    "\n",
    "#### Note\n",
    "If we try to get the type of this lambda via `cleantype::full`, we do not get much information..."
   ]
  },
  {
   "cell_type": "code",
   "execution_count": 21,
   "metadata": {},
   "outputs": [
    {
     "name": "stdout",
     "output_type": "stream",
     "text": [
      "(lambda at input_line_26:4:23)"
     ]
    }
   ],
   "source": [
    "std::cout << cleantype::full<decltype(mystery_lambda)>();"
   ]
  },
  {
   "cell_type": "markdown",
   "metadata": {},
   "source": [
    "This is because \"mystery_lambda\" is actually a instance of a hidden class. We are actually looking for the signature of the operator() of this class. `type_lambda_clean` is able to extract the type of this operator and to display it in a readable way."
   ]
  },
  {
   "cell_type": "markdown",
   "metadata": {
    "slideshow": {
     "slide_type": "slide"
    }
   },
   "source": [
    "# Identify the signature of generic lambdas"
   ]
  },
  {
   "cell_type": "markdown",
   "metadata": {},
   "source": [
    "* `cleantype::lambda`, `cleantype::lambda_clean` and `cleantype::lambda_full` are compatible with generic lambdas, provided that you specify the type of the \"auto\" params during the call.\n",
    "*  `CT_type_lambda_generic_fromparams_XXX(lambda, arg1, arg2, ...)` is a macro that will return a string containing the signature of a generic lambda where you do not specify the args type, instead you give example of these types.\n",
    "    (XXX is the number of params of the lambda, and can vary from 1 to 5).\n",
    "\n",
    "Note: getting the signature of generic lambdas is an advanced feature, and it might fail on certain compilers, such as gcc (in which case, you will get no output).\n",
    "\n",
    "### Example"
   ]
  },
  {
   "cell_type": "code",
   "execution_count": 22,
   "metadata": {
    "slideshow": {
     "slide_type": "subslide"
    }
   },
   "outputs": [],
   "source": [
    "auto add = [](auto a, auto b) {\n",
    "    return a + b; \n",
    "};;"
   ]
  },
  {
   "cell_type": "markdown",
   "metadata": {},
   "source": [
    "This lambda (\"add\") is a generic lambda (which means that at least one of its argument is specified with an \"auto\" type). It's behaviour is comparable to a template function.\n",
    "\n",
    "So, if we try to get its signature via a direct call to `cleantype::lambda_clean` like below:\n",
    "\n",
    "```cpp\n",
    "std::cout << cleantype::lambda_clean(add) << std::endl;\n",
    "```\n",
    "The compiler will complain:\n",
    "```\n",
    "cleantype/details/cleantype_lambda.hpp:29:18: error: variable 'as_ptr' with type 'auto' has incompatible initializer of type '<overloaded function type>'\n",
    "   auto as_ptr = &Lambda::operator(); // if you have an error here, your lambda is generic! Add template params for its input types!\n",
    "```\n",
    "\n",
    "The solution is to provide the types of the input parameters, like below:"
   ]
  },
  {
   "cell_type": "code",
   "execution_count": 23,
   "metadata": {
    "slideshow": {
     "slide_type": "-"
    }
   },
   "outputs": [
    {
     "name": "stdout",
     "output_type": "stream",
     "text": [
      "lambda: (int, double) -> double\n"
     ]
    }
   ],
   "source": [
    "// extract the lambda type using actual types\n",
    "std::cout << cleantype::lambda_clean<int, double>(add) << std::endl;"
   ]
  },
  {
   "cell_type": "markdown",
   "metadata": {
    "slideshow": {
     "slide_type": "subslide"
    }
   },
   "source": [
    "It can also be done by providing some example parameters : use `CT_type_lambda_generic_fromparams_XXX`, where X is the number of parameters of the lambda."
   ]
  },
  {
   "cell_type": "code",
   "execution_count": 24,
   "metadata": {},
   "outputs": [
    {
     "name": "stdout",
     "output_type": "stream",
     "text": [
      "lambda: (unsigned int, int) -> unsigned int"
     ]
    }
   ],
   "source": [
    "// extract the lambda type using example params\n",
    "std::cout << CT_type_lambda_generic_fromparams_2(add, 1u, -2);"
   ]
  },
  {
   "cell_type": "markdown",
   "metadata": {},
   "source": [
    "This second version is useful when you are lost in a forest of \"auto\" variables deep in the call stack, and you do not know the return type of the lambda, and you do not even know the type of the input parameters: in that case, if you have a working call example, then you can use it."
   ]
  },
  {
   "cell_type": "markdown",
   "metadata": {
    "slideshow": {
     "slide_type": "slide"
    }
   },
   "source": [
    "# Identify the return type of an `auto` function"
   ]
  },
  {
   "cell_type": "markdown",
   "metadata": {},
   "source": [
    "Work in progress..."
   ]
  },
  {
   "cell_type": "code",
   "execution_count": 25,
   "metadata": {},
   "outputs": [],
   "source": [
    "auto auto_fonction(int b) {\n",
    "  std::vector<int> range = fplus::numbers(0, b);\n",
    "  return fplus::pairs_to_map_grouped( fplus::overlapping_pairs_cyclic(range) );\n",
    "};"
   ]
  },
  {
   "cell_type": "markdown",
   "metadata": {
    "slideshow": {
     "slide_type": "slide"
    }
   },
   "source": [
    "# The zoo of type qualifiers\n",
    "`cleantype`handles quite well `const`, `volatile`, references (`&`), rvalue references (`&&`), and pointers (`*`). See below a demonstration "
   ]
  },
  {
   "cell_type": "code",
   "execution_count": 26,
   "metadata": {},
   "outputs": [],
   "source": [
    "auto foo = [](auto && x) {\n",
    "    run_show(     CT_cleantype_clean(x)                                );\n",
    "    run_show(     cleantype::clean<decltype(x)>()                      );\n",
    "};;\n",
    "\n",
    "#define test_call_foo(var, title)                                        \\\n",
    "    std::cout << \" *********** \" << title << \" ***********\\n\";           \\\n",
    "    std::cout << \"Bare variable (before the call)\\n\";                    \\\n",
    "    run_show(     cleantype::clean<decltype(var)>()                    );\\\n",
    "    run_show(     CT_cleantype_clean(var)                              );\\\n",
    "    std::cout << \"Now inside foo (pass by universal reference)\\n\";       \\\n",
    "    foo(var);"
   ]
  },
  {
   "cell_type": "code",
   "execution_count": 27,
   "metadata": {
    "slideshow": {
     "slide_type": "subslide"
    }
   },
   "outputs": [
    {
     "name": "stdout",
     "output_type": "stream",
     "text": [
      " *********** Calling with an int lvalue (transformed to a ref by the call) ***********\n",
      "Bare variable (before the call)\n",
      "cleantype::clean<decltype(a)>()\n",
      "int\n",
      "\n",
      "CT_cleantype_clean(a)\n",
      "int\n",
      "\n",
      "Now inside foo (pass by universal reference)\n",
      "CT_cleantype_clean(x)\n",
      "int &\n",
      "\n",
      "cleantype::clean<decltype(x)>()\n",
      "int &\n",
      "\n",
      " *********** Calling with a const lvalue reference ***********\n",
      "Bare variable (before the call)\n",
      "cleantype::clean<decltype(b)>()\n",
      "const int &\n",
      "\n",
      "CT_cleantype_clean(b)\n",
      "const int &\n",
      "\n",
      "Now inside foo (pass by universal reference)\n",
      "CT_cleantype_clean(x)\n",
      "const int &\n",
      "\n",
      "cleantype::clean<decltype(x)>()\n",
      "const int &\n",
      "\n",
      " *********** Calling with an rvalue reference ***********\n",
      "Bare variable (before the call)\n",
      "cleantype::clean<decltype(42)>()\n",
      "int\n",
      "\n",
      "CT_cleantype_clean(42)\n",
      "int\n",
      "\n",
      "Now inside foo (pass by universal reference)\n",
      "CT_cleantype_clean(x)\n",
      "int &&\n",
      "\n",
      "cleantype::clean<decltype(x)>()\n",
      "int &&\n",
      "\n",
      " *********** Calling with a const pointer ***********\n",
      "Bare variable (before the call)\n",
      "cleantype::clean<decltype(c)>()\n",
      "int * const\n",
      "\n",
      "CT_cleantype_clean(c)\n",
      "int * const\n",
      "\n",
      "Now inside foo (pass by universal reference)\n",
      "CT_cleantype_clean(x)\n",
      "int * const &\n",
      "\n",
      "cleantype::clean<decltype(x)>()\n",
      "int * const &\n",
      "\n",
      " *********** Calling with a pointer to const ***********\n",
      "Bare variable (before the call)\n",
      "cleantype::clean<decltype(d)>()\n",
      "const int *\n",
      "\n",
      "CT_cleantype_clean(d)\n",
      "const int *\n",
      "\n",
      "Now inside foo (pass by universal reference)\n",
      "CT_cleantype_clean(x)\n",
      "const int * &\n",
      "\n",
      "cleantype::clean<decltype(x)>()\n",
      "const int * &\n",
      "\n",
      " *********** Calling with a volatile int ***********\n",
      "Bare variable (before the call)\n",
      "cleantype::clean<decltype(vol)>()\n",
      "volatile int\n",
      "\n",
      "CT_cleantype_clean(vol)\n",
      "volatile int\n",
      "\n",
      "Now inside foo (pass by universal reference)\n",
      "CT_cleantype_clean(x)\n",
      "volatile int &\n",
      "\n",
      "cleantype::clean<decltype(x)>()\n",
      "volatile int &\n",
      "\n",
      " *********** Calling with a const ***********\n",
      "Bare variable (before the call)\n",
      "cleantype::clean<decltype(e)>()\n",
      "const int\n",
      "\n",
      "CT_cleantype_clean(e)\n",
      "const int\n",
      "\n",
      "Now inside foo (pass by universal reference)\n",
      "CT_cleantype_clean(x)\n",
      "const int &\n",
      "\n",
      "cleantype::clean<decltype(x)>()\n",
      "const int &\n",
      "\n"
     ]
    }
   ],
   "source": [
    "{\n",
    "    int a = 5;  \n",
    "    test_call_foo(a, \"Calling with an int lvalue (transformed to a ref by the call)\");\n",
    "    \n",
    "    int const &  b = a; \n",
    "    test_call_foo(b, \"Calling with a const lvalue reference\");\n",
    "    \n",
    "    test_call_foo(42, \"Calling with an rvalue reference\");\n",
    "    \n",
    "    int * const c = &a;\n",
    "    test_call_foo(c, \"Calling with a const pointer\");\n",
    "\n",
    "    int const * d = &a;\n",
    "    test_call_foo(d, \"Calling with a pointer to const\");\n",
    "\n",
    "    int volatile vol = 42;\n",
    "    test_call_foo(vol, \"Calling with a volatile int\");\n",
    "    \n",
    "    int const e = 5;  \n",
    "    test_call_foo(e, \"Calling with a const\");\n",
    "\n",
    "}"
   ]
  }
 ],
 "metadata": {
  "kernelspec": {
   "display_name": "C++17",
   "language": "C++17",
   "name": "xeus-cling-cpp17"
  },
  "language_info": {
   "codemirror_mode": "text/x-c++src",
   "file_extension": ".cpp",
   "mimetype": "text/x-c++src",
   "name": "c++",
   "version": "-std=c++17"
  }
 },
 "nbformat": 4,
 "nbformat_minor": 2
}
